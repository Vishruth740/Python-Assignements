{
 "cells": [
  {
   "cell_type": "raw",
   "id": "bc1b5f12",
   "metadata": {},
   "source": [
    "1. Product of two matrices."
   ]
  },
  {
   "cell_type": "code",
   "execution_count": 1,
   "id": "f366dbe2",
   "metadata": {},
   "outputs": [
    {
     "data": {
      "text/plain": [
       "[[11, 14, 17, 20, 23], [23, 30, 37, 44, 51]]"
      ]
     },
     "execution_count": 1,
     "metadata": {},
     "output_type": "execute_result"
    }
   ],
   "source": [
    "\n",
    "def matrix_mul(a,b):\n",
    "    list2=[]\n",
    "    for i in range(len(a)):\n",
    "        list2.append(len(b[0])*[0])\n",
    "    if len(a[0])==len(b):\n",
    "        for i in range(len(a)):\n",
    "            for j in range(len(b[0])):\n",
    "                for k in range(len(b)):\n",
    "                    list2[i][j]=list2[i][j]+(a[i][k]*b[k][j])\n",
    "        return list2\n",
    "    else:\n",
    "        print(\"matrix multiplication is not possible\")\n",
    "    \n",
    "\n",
    "A   = [[1 ,2],[3 ,4]]\n",
    "B   = [[1 ,2 ,3 ,4 ,5],[5, 6, 7, 8 ,9]]\n",
    "    \n",
    "matrix_mul(A, B)\n"
   ]
  },
  {
   "cell_type": "raw",
   "id": "ec070fd3",
   "metadata": {},
   "source": [
    "Q2: Proportional Sampling - Select a number randomly with probability proportional \n"
   ]
  },
  {
   "cell_type": "code",
   "execution_count": 15,
   "id": "566d11d5",
   "metadata": {},
   "outputs": [
    {
     "name": "stdout",
     "output_type": "stream",
     "text": [
      "6\n",
      "100\n",
      "100\n",
      "79\n",
      "79\n",
      "100\n",
      "45\n",
      "100\n",
      "100\n",
      "28\n",
      "79\n",
      "27\n",
      "100\n",
      "28\n",
      "79\n",
      "79\n",
      "100\n",
      "10\n",
      "5\n",
      "79\n",
      "28\n",
      "100\n",
      "13\n",
      "27\n",
      "45\n",
      "45\n",
      "45\n",
      "27\n",
      "28\n",
      "100\n",
      "6\n",
      "45\n",
      "79\n",
      "10\n",
      "100\n",
      "100\n",
      "79\n",
      "100\n",
      "100\n",
      "13\n",
      "28\n",
      "79\n",
      "45\n",
      "45\n",
      "79\n",
      "28\n",
      "45\n",
      "100\n",
      "28\n",
      "79\n",
      "79\n",
      "28\n",
      "27\n",
      "79\n",
      "45\n",
      "45\n",
      "100\n",
      "100\n",
      "100\n",
      "100\n",
      "79\n",
      "79\n",
      "100\n",
      "79\n",
      "45\n",
      "100\n",
      "45\n",
      "79\n",
      "28\n",
      "45\n",
      "100\n",
      "45\n",
      "45\n",
      "100\n",
      "100\n",
      "79\n",
      "28\n",
      "100\n",
      "45\n",
      "79\n",
      "10\n",
      "79\n",
      "79\n",
      "100\n",
      "5\n",
      "13\n",
      "100\n",
      "79\n",
      "45\n",
      "79\n",
      "45\n",
      "45\n",
      "27\n",
      "27\n",
      "27\n",
      "28\n",
      "27\n",
      "27\n",
      "100\n",
      "28\n"
     ]
    }
   ],
   "source": [
    "\n",
    "\n",
    "from random import uniform\n",
    "def pick_a_number_from_list(a):\n",
    "    list1=[]\n",
    "    list2=[]\n",
    "    sum_1=sum(a)\n",
    "    sum2=0\n",
    "    for i in range(len(a)):\n",
    "        list1.append(a[i]/sum_1)\n",
    "    for j in range(len(list1)):\n",
    "        sum2=sum2+list1[j]\n",
    "        list2.append(sum2)\n",
    "    r=uniform(0,1)\n",
    "    for i in range(len(list2)):\n",
    "        if r<=list2[i]:\n",
    "            return a[i]\n",
    "a=[0 ,5 ,27, 6 ,13 ,28 ,100, 45 ,10 ,79]\n",
    "def sampling_based_on_magnitued():\n",
    "    for i in range(0,100):\n",
    "        number = pick_a_number_from_list(a)\n",
    "        print(number)\n",
    "sampling_based_on_magnitued()"
   ]
  },
  {
   "cell_type": "raw",
   "id": "7541913e",
   "metadata": {},
   "source": [
    "3 .Replace the digits in the string with \"# \""
   ]
  },
  {
   "cell_type": "code",
   "execution_count": 18,
   "id": "872d2872",
   "metadata": {
    "scrolled": true
   },
   "outputs": [
    {
     "name": "stdout",
     "output_type": "stream",
     "text": [
      "###\n"
     ]
    }
   ],
   "source": [
    "\n",
    "def replace_digits(a):\n",
    "    list1=[]\n",
    "    for i in range(len(a)):\n",
    "        if a[i].isdigit():\n",
    "            list1.append(a[i])\n",
    "    if len(list1)==0:\n",
    "        print(\"empty string\")\n",
    "    else:\n",
    "        print(len(list1)*\"#\")\n",
    "\n",
    "a=\"a2b3c4\"\n",
    "replace_digits(a)\n",
    "\n"
   ]
  },
  {
   "cell_type": "raw",
   "id": "099dad19",
   "metadata": {},
   "source": [
    " 4.Error Function"
   ]
  },
  {
   "cell_type": "code",
   "execution_count": 21,
   "id": "cf2ea587",
   "metadata": {},
   "outputs": [
    {
     "name": "stdout",
     "output_type": "stream",
     "text": [
      "0.42430993457031635\n"
     ]
    }
   ],
   "source": [
    "\n",
    "import math as m\n",
    "def compute_log_loss(list1):\n",
    "    sum1=0\n",
    "    for i in range(len(list1)):\n",
    "        sum1=sum1+(list1[i][0]*m.log10(list1[i][1]))+((1-list1[i][0])*m.log10(1-list1[i][1]))\n",
    "    print(sum1/(-len(list1)))\n",
    "\n",
    "A = [[1, 0.4], [0, 0.5], [0, 0.9], [0, 0.3], [0, 0.6], [1, 0.1], [1, 0.9], [1, 0.8]]\n",
    "compute_log_loss(A)\n"
   ]
  },
  {
   "cell_type": "raw",
   "id": "66d36f05",
   "metadata": {},
   "source": [
    " Q5: Operations on sentences You will be given two sentances S1, S2 your task is to find"
   ]
  },
  {
   "cell_type": "code",
   "execution_count": 22,
   "id": "c4ea2ab3",
   "metadata": {},
   "outputs": [
    {
     "name": "stdout",
     "output_type": "stream",
     "text": [
      "7\n",
      "['first', 'F', '5']\n",
      "['second', 'S', '3']\n"
     ]
    }
   ],
   "source": [
    "\n",
    "def string_features(S1, S2):\n",
    "    list1=S1.split()\n",
    "    list2=S2.split()\n",
    "    l3=[]\n",
    "    l4=[]\n",
    "    count=0\n",
    "    for i in list1:\n",
    "        for j in range(len(list2)):\n",
    "            if  list2[j]==i:\n",
    "                count+=1\n",
    "    print(count)\n",
    "    for j in range(len(list2)):\n",
    "        if list1[j]!=list2[j]:\n",
    "            l3.append(list1[j])\n",
    "    print(l3)\n",
    "    for j in range(len(list1)):\n",
    "        if list1[j]!=list2[j]:\n",
    "            l4.append(list2[j])\n",
    "    print(l4)\n",
    "\n",
    "S1= \"the first column F will contain only 5 uniques values\"\n",
    "S2= \"the second column S will contain only 3 uniques values\"\n",
    "string_features(S1,S2)"
   ]
  },
  {
   "cell_type": "raw",
   "id": "b8f53e19",
   "metadata": {},
   "source": [
    " Q6 Find the probabilities"
   ]
  },
  {
   "cell_type": "code",
   "execution_count": 25,
   "id": "612d8fa2",
   "metadata": {},
   "outputs": [
    {
     "name": "stdout",
     "output_type": "stream",
     "text": [
      "Probability of P(F=F1|S==S2) = 0.3333333333333333\n",
      "Probability of P(F=F1|S==S3) = 0.0\n",
      "Probability of P(F=F2|S==S1) = 0.25\n",
      "Probability of P(F=F2|S==S2) = 0.3333333333333333\n",
      "Probability of P(F=F2|S==S3) = 0.3333333333333333\n",
      "Probability of P(F=F3|S==S1) = 0.0\n",
      "Probability of P(F=F3|S==S2) = 0.3333333333333333\n",
      "Probability of P(F=F3|S==S3) = 0.3333333333333333\n",
      "Probability of P(F=F4|S==S1) = 0.25\n",
      "Probability of P(F=F4|S==S2) = 0.0\n",
      "Probability of P(F=F4|S==S3) = 0.3333333333333333\n",
      "Probability of P(F=F5|S==S1) = 0.25\n",
      "Probability of P(F=F5|S==S2) = 0.0\n",
      "Probability of P(F=F5|S==S3) = 0.0\n"
     ]
    }
   ],
   "source": [
    "\n",
    "a = [['F1', 'S1'], ['F2', 'S2'], ['F3', 'S3'], ['F1', 'S2'], ['F2', 'S3'], ['F3', 'S2'], ['F2', 'S1'], ['F4', 'S1'], ['F4', 'S3'], ['F5', 'S1']]\n",
    "def compute_conditional_probabilites(a):\n",
    "    count1=0\n",
    "    count2=0\n",
    "    count3=0\n",
    "    count4=0\n",
    "    count5=0\n",
    "    count6=0\n",
    "    count7=0\n",
    "    count8=0\n",
    "    count9=0\n",
    "    count11=0\n",
    "    count12=0\n",
    "    count13=0\n",
    "    count14=0\n",
    "    count15=0\n",
    "    count16=0\n",
    "    count17=0\n",
    "    count18=0\n",
    "    count19=0\n",
    "    F_1=[]\n",
    "    S=[]\n",
    "    list1=[]\n",
    "    for i in range(len(a)):\n",
    "        F_1.append(a[i][0])\n",
    "        S.append(a[i][1])\n",
    "        list1.append(a[i][0]+a[i][1])\n",
    "    for s in range(len(list1)):  #code for taking count of s1,s2,s3\n",
    "        if S[s]==\"S1\":\n",
    "            count1+=1\n",
    "        elif  S[s]==\"S2\":\n",
    "            count2+=1\n",
    "        else:\n",
    "            count3+=1\n",
    "    for i in range(len(list1)):\n",
    "        if list1[i]==\"F1S1\":\n",
    "            count4+=1\n",
    "        if list1[i]==\"F2S2\":\n",
    "            count5+=1\n",
    "        if list1[i]==\"F3S3\":\n",
    "            count6+=1\n",
    "        if list1[i]==\"F1S2\":\n",
    "            count7+=1\n",
    "        if list1[i]==\"F2S3\":\n",
    "            count8+=1\n",
    "        if list1[i]==\"F3S2\":\n",
    "            count9+=1\n",
    "        if list1[i]==\"F2S1\":\n",
    "            count11+=1\n",
    "        if list1[i]==\"F4S1\":\n",
    "            count12+=1\n",
    "        if list1[i]==\"F4S3\":\n",
    "            count13+=1\n",
    "        if list1[i]==\"F5S1\":\n",
    "            count14+=1\n",
    "        if list1[i]==\"F1S3\":\n",
    "            count15+=1\n",
    "        if list1[i]==\"F3S1\":\n",
    "            count16+=1\n",
    "        if list1[i]==\"F4S2\":\n",
    "            count17+=1\n",
    "        if list1[i]==\"F5S2\":\n",
    "            count18+=1\n",
    "        if list1[i]==\"F5S3\":\n",
    "            count19+=1\n",
    "    print('Probability of P(F=F1|S==S2) =',(count7/count2))\n",
    "    print('Probability of P(F=F1|S==S3) =',(count15/count3))\n",
    "    print('Probability of P(F=F2|S==S1) =',(count11/count1))\n",
    "    print('Probability of P(F=F2|S==S2) =',(count5/count2))\n",
    "    print('Probability of P(F=F2|S==S3) =',(count8/count3))\n",
    "    print('Probability of P(F=F3|S==S1) =',(count16/count1))\n",
    "    print('Probability of P(F=F3|S==S2) =',(count9/count2))\n",
    "    print('Probability of P(F=F3|S==S3) =',(count6/count3))\n",
    "    print('Probability of P(F=F4|S==S1) =',(count12/count1))\n",
    "    print('Probability of P(F=F4|S==S2) =',(count17/count2))\n",
    "    print('Probability of P(F=F4|S==S3) =',(count13/count3))\n",
    "    print('Probability of P(F=F5|S==S1) =',(count14/count1))\n",
    "    print('Probability of P(F=F5|S==S2) =',(count18/count2))\n",
    "    print('Probability of P(F=F5|S==S3) =',(count19/count3))\n",
    "compute_conditional_probabilites(a)"
   ]
  },
  {
   "cell_type": "raw",
   "id": "9c6aa1e4",
   "metadata": {},
   "source": [
    " Q7: Find Which line separates oranges and apples"
   ]
  },
  {
   "cell_type": "code",
   "execution_count": 29,
   "id": "a3922c93",
   "metadata": {},
   "outputs": [
    {
     "name": "stdout",
     "output_type": "stream",
     "text": [
      "Yes\n",
      "No\n",
      "No\n",
      "Yes\n"
     ]
    }
   ],
   "source": [
    "\n",
    "import re\n",
    "Blue= [(-2,-1),(-1,-2),(-3,-2),(-3,-1),(1,-3)]\n",
    "Lines=[\"1x+1y+0\",\"1x-1y+0\",\"1x+0y-3\",\"0x+1y-0.5\"]\n",
    "Red= [(1,1),(2,1),(4,2),(2,4),(-1,4)]\n",
    "red=[]\n",
    "blue=[]\n",
    "for line in Lines:\n",
    "    red_1=[]\n",
    "    blue_1=[]\n",
    "    a, b, c = [float(x.strip()) for x in re.split('x|y', line)] #from stackoverflow\n",
    "    for i in range(len(Red)):\n",
    "        d=(a*Red[i][0]) + ((b*Red[i][1])+c)\n",
    "        red_1.append(d)\n",
    "    red.append(red_1)\n",
    "    \n",
    "    for i in range(len(Blue)):\n",
    "        e=((a*Blue[i][0]) + (b*Blue[i][1])+c)\n",
    "        blue_1.append(e)\n",
    "    blue.append(blue_1)\n",
    "list2=[]\n",
    "list3=[]\n",
    "for i in range(len(red)):\n",
    "    list2.append(len(red[0])*[0])\n",
    "for i in range(len(blue)):\n",
    "    list3.append(len(blue[0])*[0])\n",
    "for i in range(len(red)):\n",
    "    for j in range(len(red[i])):\n",
    "        if red[i][j]>0:\n",
    "            list2[i][j]=1\n",
    "        else:\n",
    "            list2[i][j]=0\n",
    "for i in range(len(blue)):\n",
    "    for j in range(len(blue[i])):\n",
    "        if blue[i][j]<0:\n",
    "            list3[i][j]=1\n",
    "        else:\n",
    "            list3[i][j]=0\n",
    "for i in range(len(list2)):\n",
    "    if list2[i]==list3[i]:\n",
    "        print(\"Yes\")\n",
    "    else:\n",
    "        print(\"No\")\n"
   ]
  },
  {
   "cell_type": "raw",
   "id": "1c48966e",
   "metadata": {},
   "source": [
    " 8 Find the closest points"
   ]
  },
  {
   "cell_type": "code",
   "execution_count": 44,
   "id": "23a285d1",
   "metadata": {},
   "outputs": [
    {
     "name": "stdout",
     "output_type": "stream",
     "text": [
      "(6, -7)\n",
      "(1, -1)\n",
      "(6, 0)\n",
      "(-5, -8)\n",
      "(-1, -1)\n"
     ]
    }
   ],
   "source": [
    "\n",
    "import math as m\n",
    "S = s= [(1,2),(3,4),(-1,1),(6,-7),(0, 6),(-5,-8),(-1,-1),(6,0),(1,-1)]\n",
    "p= (3,-4)\n",
    "def closest_points_to_p(S, P):\n",
    "    point=[]\n",
    "    for i in range(len(S)):\n",
    "        c=m.acos(((p[0]*S[i][0])+(p[1]*S[i][1]))/(m.sqrt((m.pow(S[i][0],2))+(m.pow(S[i][1],2)))*m.sqrt((m.pow(p[0],2)+(m.pow(p[1],2))))))\n",
    "        point.append(c)\n",
    "        cob=[(S[i],point[i]) for i in range(0,len(point))]\n",
    "    def sort(x):\n",
    "        return x[1]\n",
    "    cob.sort(key=sort)\n",
    "    for i in range(0,5):\n",
    "        print(cob[i][0])\n",
    "\n",
    "closest_points_to_p(S,p)"
   ]
  },
  {
   "cell_type": "raw",
   "id": "19e2bf0a",
   "metadata": {},
   "source": [
    "9  Students marks dashboard"
   ]
  },
  {
   "cell_type": "code",
   "execution_count": 4,
   "id": "91ad4964",
   "metadata": {},
   "outputs": [
    {
     "name": "stdout",
     "output_type": "stream",
     "text": [
      "student8   98\n",
      "student10   80\n",
      "student2   78\n",
      "student5   48\n",
      "student7   47\n",
      "--------------------------------------------\n",
      "student3   12\n",
      "student4   14\n",
      "student9   22\n",
      "student6   43\n",
      "student1   45\n",
      "--------------------------------------------\n",
      "student9 22\n",
      "student6 43\n",
      "student1 45\n",
      "student7 47\n",
      "student5 48\n"
     ]
    }
   ],
   "source": [
    "\n",
    "def display_dash_board(Students, Marks):\n",
    "    list1=[]\n",
    "    count=0\n",
    "    for i in range(len(Marks)):\n",
    "        list1.append((Students[i],Marks[i]))\n",
    "    def myfunc(n):\n",
    "        return n[1]\n",
    "    list1.sort(key=myfunc,reverse=True)\n",
    "    for c ,d  in list1:\n",
    "        print(c , \" \" , d)\n",
    "        count+=1\n",
    "        if count==5:\n",
    "            break\n",
    "    top_5_students = count\n",
    "    print(\"--------------------------------------------\")\n",
    "    list1.sort(key=myfunc,reverse=False)\n",
    "    count1=0\n",
    "    for c ,d  in list1:\n",
    "        print(c , \" \" , d)\n",
    "        count1+=1\n",
    "        if count1==5:\n",
    "            break\n",
    "    least_5_students =count1\n",
    "    print(\"--------------------------------------------\")\n",
    "    max1 = max(Marks)\n",
    "    min1 = min(Marks)\n",
    "    diff = max1 - min1\n",
    "    pre_25 = diff*0.25\n",
    "    pre_75 = diff*0.75\n",
    "    for a,b in list1:\n",
    "        if (b>pre_25) and (b<pre_75):\n",
    "            print(a,b)\n",
    "    \n",
    "    return top_5_students, least_5_students\n",
    "Students=['student1','student2','student3','student4','student5','student6','student7','student8','student9','student10'] \n",
    "Marks = [45, 78, 12, 14, 48, 43, 47, 98, 22, 80]\n",
    "a= display_dash_board(Students, Marks)\n"
   ]
  },
  {
   "cell_type": "raw",
   "id": "ee3b5dcf",
   "metadata": {},
   "source": [
    "10 Filling the missing values in the specified format"
   ]
  },
  {
   "cell_type": "code",
   "execution_count": 41,
   "id": "8b34e774",
   "metadata": {},
   "outputs": [
    {
     "name": "stdout",
     "output_type": "stream",
     "text": [
      "[10.0, 10.0, 12.0, 12.0, 12.0, 12.0, 4.0, 4.0, 4.0]\n",
      "[20.0, 20.0, 20.0, 20.0, 20.0]\n",
      "[16.0, 16.0, 16.0, 16.0, 16.0]\n"
     ]
    }
   ],
   "source": [
    "\n",
    "def curve_smoothing(a):\n",
    "    b=a.split(\",\")\n",
    "    list1=[]\n",
    "    list2=[]\n",
    "    count=0\n",
    "    for i in range(len(b)):\n",
    "        if b[i]=='_' and b[len(b)-1]!=\"_\":\n",
    "            list1.append(0)\n",
    "        elif b[i]=='_' and b[len(b)-1]==\"_\":\n",
    "            list1.append(0)\n",
    "        else:\n",
    "            list1.append(int(b[i]))\n",
    "        \n",
    "    if list1[0]==0 and list1[len(list1)-1]==0:\n",
    "        first=list1[0]\n",
    "        start=1\n",
    "        for i in range(start,len(list1)):\n",
    "            if list1[i]!=0:\n",
    "                k=i\n",
    "                for j in range(start-1,k+1) :\n",
    "                    list1[j]=(int(first)+int(list1[i]))/int((k-start+2))\n",
    "                start=k+1\n",
    "                first=list1[k]  \n",
    "        if list1[-1]==0:\n",
    "            k=int(len(list1))//2\n",
    "            for i in range(k+2,len(list1)):\n",
    "                list1[i]=((list1[k]+list1[-1])/k+1) \n",
    "        print(list1)\n",
    "    \n",
    "    else:\n",
    "        for j in range(len(list1)):\n",
    "            if list1[0]==0 and list1[len(list1)-1]!=0:\n",
    "                list2.append((list1[0]+list1[len(list1)-1])/len(list1))\n",
    "            elif list1[0]!=0 and list1[len(list1)-1]!=0:\n",
    "                list2.append((list1[0]+list1[len(list1)-1])/len(list1))\n",
    "            elif list1[0]!=0 and list1[len(list1)-1]==0:\n",
    "                list2.append((list1[0]+list1[len(list1)-1])/len(list1))\n",
    "        print(list2)\n",
    "    \n",
    "    \n",
    "a=\"_,_,30,_,_,_,50,_,_\"\n",
    "b=\"40,_,_,_,60\"\n",
    "c=\"80,_,_,_,_\"\n",
    "curve_smoothing(a)\n",
    "curve_smoothing(b)\n",
    "curve_smoothing(c)"
   ]
  },
  {
   "cell_type": "code",
   "execution_count": null,
   "id": "dffd5b2a",
   "metadata": {},
   "outputs": [],
   "source": []
  }
 ],
 "metadata": {
  "kernelspec": {
   "display_name": "Python 3 (ipykernel)",
   "language": "python",
   "name": "python3"
  },
  "language_info": {
   "codemirror_mode": {
    "name": "ipython",
    "version": 3
   },
   "file_extension": ".py",
   "mimetype": "text/x-python",
   "name": "python",
   "nbconvert_exporter": "python",
   "pygments_lexer": "ipython3",
   "version": "3.9.7"
  }
 },
 "nbformat": 4,
 "nbformat_minor": 5
}
